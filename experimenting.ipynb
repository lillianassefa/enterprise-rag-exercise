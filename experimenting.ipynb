{
 "cells": [
  {
   "cell_type": "code",
   "execution_count": 1,
   "metadata": {},
   "outputs": [],
   "source": [
    "import os\n",
    "from dotenv import load_dotenv\n",
    "import sys\n"
   ]
  },
  {
   "cell_type": "code",
   "execution_count": 2,
   "metadata": {},
   "outputs": [],
   "source": [
    "load_dotenv()\n",
    "\n",
    "api_key = os.getenv(\"OPENAI_API_KEY\")"
   ]
  },
  {
   "cell_type": "code",
   "execution_count": 3,
   "metadata": {},
   "outputs": [],
   "source": [
    "sys.path.append(\"/home/lillian/Documents/TenAcademy/enterprise-rag-exercise/backend\")"
   ]
  },
  {
   "cell_type": "code",
   "execution_count": 14,
   "metadata": {},
   "outputs": [],
   "source": [
    "from retrival import file_reader\n",
    "from retrival import test_contextualized_answer"
   ]
  },
  {
   "cell_type": "code",
   "execution_count": 5,
   "metadata": {},
   "outputs": [
    {
     "name": "stderr",
     "output_type": "stream",
     "text": [
      "/home/lillian/.local/lib/python3.10/site-packages/pinecone/index.py:4: TqdmWarning: IProgress not found. Please update jupyter and ipywidgets. See https://ipywidgets.readthedocs.io/en/stable/user_install.html\n",
      "  from tqdm.autonotebook import tqdm\n"
     ]
    }
   ],
   "source": [
    "import pinecone\n",
    "\n",
    "\n",
    "pinecone.init(\n",
    "    api_key=os.environ.get('PINECONE_API_KEY') or '3306f52a-a64a-46dd-b81a-0d073fb5a072',\n",
    "    environment=os.environ.get('PINECONE_ENVIRONMENT') or 'gcp-starter'\n",
    ")"
   ]
  },
  {
   "cell_type": "code",
   "execution_count": 6,
   "metadata": {},
   "outputs": [],
   "source": [
    "import time\n",
    "\n",
    "index_name = 'llama-2-rag'\n",
    "\n",
    "if index_name not in pinecone.list_indexes():\n",
    "    pinecone.create_index(\n",
    "        index_name,\n",
    "        dimension=1536,\n",
    "        metric='cosine'\n",
    "    )\n",
    "    # wait for index to finish initialization\n",
    "    while not pinecone.describe_index(index_name).status['ready']:\n",
    "        time.sleep(1)\n",
    "\n",
    "index = pinecone.Index(index_name)\n",
    "    "
   ]
  },
  {
   "cell_type": "code",
   "execution_count": 7,
   "metadata": {},
   "outputs": [
    {
     "data": {
      "text/plain": [
       "{'dimension': 1536,\n",
       " 'index_fullness': 0.04838,\n",
       " 'namespaces': {'': {'vector_count': 4838}},\n",
       " 'total_vector_count': 4838}"
      ]
     },
     "execution_count": 7,
     "metadata": {},
     "output_type": "execute_result"
    }
   ],
   "source": [
    "index.describe_index_stats()"
   ]
  },
  {
   "cell_type": "code",
   "execution_count": 8,
   "metadata": {},
   "outputs": [
    {
     "ename": "NameError",
     "evalue": "name 'file_reader' is not defined",
     "output_type": "error",
     "traceback": [
      "\u001b[0;31m---------------------------------------------------------------------------\u001b[0m",
      "\u001b[0;31mNameError\u001b[0m                                 Traceback (most recent call last)",
      "Cell \u001b[0;32mIn[8], line 1\u001b[0m\n\u001b[0;32m----> 1\u001b[0m context_message \u001b[38;5;241m=\u001b[39m \u001b[43mfile_reader\u001b[49m(\u001b[38;5;124m\"\u001b[39m\u001b[38;5;124m/home/lillian/Documents/TenAcademy/enterprise-rag-exercise/backend/context.txt\u001b[39m\u001b[38;5;124m\"\u001b[39m)\n\u001b[1;32m      2\u001b[0m document \u001b[38;5;241m=\u001b[39m context_message\u001b[38;5;241m.\u001b[39msplit(\u001b[38;5;124m'\u001b[39m\u001b[38;5;130;01m\\n\u001b[39;00m\u001b[38;5;124m'\u001b[39m)\n",
      "\u001b[0;31mNameError\u001b[0m: name 'file_reader' is not defined"
     ]
    }
   ],
   "source": [
    "context_message = file_reader(\"/home/lillian/Documents/TenAcademy/enterprise-rag-exercise/backend/context.txt\")\n",
    "document = context_message.split('\\n')\n"
   ]
  },
  {
   "cell_type": "code",
   "execution_count": 9,
   "metadata": {},
   "outputs": [],
   "source": [
    "from sklearn.feature_extraction.text import TfidfVectorizer\n",
    "from sklearn.metrics.pairwise import cosine_similarity\n",
    "vectorizer = TfidfVectorizer()"
   ]
  },
  {
   "cell_type": "code",
   "execution_count": 12,
   "metadata": {},
   "outputs": [],
   "source": [
    "context_vector = vectorizer.fit_transform(document)"
   ]
  },
  {
   "cell_type": "code",
   "execution_count": 30,
   "metadata": {},
   "outputs": [
    {
     "name": "stdout",
     "output_type": "stream",
     "text": [
      "  (0, 413)\t0.7266547071407753\n",
      "  (0, 99)\t0.6870028650523621\n",
      "  (1, 138)\t0.10080123133878717\n",
      "  (1, 583)\t0.10855373183519164\n",
      "  (1, 347)\t0.07778124866569268\n",
      "  (1, 10)\t0.10080123133878717\n",
      "  (1, 579)\t0.10855373183519164\n",
      "  (1, 672)\t0.09530074470038043\n",
      "  (1, 351)\t0.10855373183519164\n",
      "  (1, 193)\t0.10855373183519164\n",
      "  (1, 404)\t0.10855373183519164\n",
      "  (1, 236)\t0.09530074470038043\n",
      "  (1, 115)\t0.10855373183519164\n",
      "  (1, 183)\t0.10855373183519164\n",
      "  (1, 55)\t0.17509648840795186\n",
      "  (1, 15)\t0.10855373183519164\n",
      "  (1, 240)\t0.10855373183519164\n",
      "  (1, 168)\t0.10855373183519164\n",
      "  (1, 205)\t0.10080123133878717\n",
      "  (1, 421)\t0.10855373183519164\n",
      "  (1, 173)\t0.10080123133878717\n",
      "  (1, 219)\t0.10855373183519164\n",
      "  (1, 539)\t0.10855373183519164\n",
      "  (1, 450)\t0.10855373183519164\n",
      "  (1, 455)\t0.10855373183519164\n",
      "  :\t:\n",
      "  (207, 490)\t0.2995873471089458\n",
      "  (207, 385)\t0.2995873471089458\n",
      "  (207, 237)\t0.2995873471089458\n",
      "  (207, 225)\t0.2995873471089458\n",
      "  (207, 460)\t0.2995873471089458\n",
      "  (207, 522)\t0.2630116606736323\n",
      "  (207, 93)\t0.27819194210615195\n",
      "  (207, 446)\t0.27819194210615195\n",
      "  (207, 689)\t0.20963194741657235\n",
      "  (207, 674)\t0.2630116606736323\n",
      "  (207, 595)\t0.2630116606736323\n",
      "  (207, 103)\t0.2512369196203142\n",
      "  (207, 427)\t0.20963194741657235\n",
      "  (207, 627)\t0.13769367536128177\n",
      "  (207, 257)\t0.13769367536128177\n",
      "  (208, 246)\t1.0\n",
      "  (209, 132)\t0.4079616847988938\n",
      "  (209, 689)\t0.3074201280175999\n",
      "  (209, 282)\t0.34239579424133054\n",
      "  (209, 246)\t0.35432433445776546\n",
      "  (209, 20)\t0.4079616847988938\n",
      "  (209, 676)\t0.3320628227042403\n",
      "  (209, 509)\t0.3684328030352431\n",
      "  (209, 627)\t0.20192441003595202\n",
      "  (209, 307)\t0.2075207520118581\n"
     ]
    }
   ],
   "source": [
    "print(context_vector)"
   ]
  },
  {
   "cell_type": "code",
   "execution_count": 20,
   "metadata": {},
   "outputs": [],
   "source": [
    "def set_open_params(\n",
    "    model=\"gpt-3.5-turbo\",\n",
    "    temperature=0,\n",
    "    max_tokens=256,\n",
    "    top_p=1,\n",
    "    frequency_penalty=0,\n",
    "    presence_penalty=0,):\n",
    "    openai_params = {}    \n",
    "\n",
    "    openai_params['model'] = model\n",
    "    openai_params['temperature'] = temperature\n",
    "    openai_params['max_tokens'] = max_tokens\n",
    "    openai_params['top_p'] = top_p\n",
    "    openai_params['frequency_penalty'] = frequency_penalty\n",
    "    openai_params['presence_penalty'] = presence_penalty\n",
    "    return openai_params\n",
    "\n",
    "    "
   ]
  },
  {
   "cell_type": "code",
   "execution_count": 22,
   "metadata": {},
   "outputs": [
    {
     "name": "stdout",
     "output_type": "stream",
     "text": [
      "10 Academy is a nonprofit organization that aims to provide free, world-class data science training to talented individuals from developing countries. The academy offers a rigorous 10-month program that combines online coursework with weekly virtual meetings and project-based learning. The goal of 10 Academy is to empower individuals with the skills and knowledge needed to address social, economic, and environmental challenges in their communities using data-driven insights. Upon completion of the program, graduates are connected with job opportunities and mentorship to further support their career development.\n"
     ]
    }
   ],
   "source": [
    "import openai\n",
    "import IPython\n",
    "response = openai.chat.completions.create(\n",
    "model = \"gpt-3.5-turbo\",\n",
    "messages = [\n",
    "    {\n",
    "        \"role\": \"user\",\n",
    "        \"content\": \"What is 10 academy\"\n",
    "    }\n",
    "],\n",
    "temperature = 1.0,\n",
    "max_tokens = 256,\n",
    "top_p =1,\n",
    "frequency_penalty = 0)\n",
    "print(response.choices[0].message.content)\n",
    "\n"
   ]
  },
  {
   "cell_type": "code",
   "execution_count": 25,
   "metadata": {},
   "outputs": [
    {
     "data": {
      "text/markdown": [
       "10 Academy is a data science fellowship program that aims to train and mentor aspiring data scientists from Africa. It provides a six-month intensive training program in data science and machine learning, equipping participants with the skills and knowledge needed to solve real-world problems using data. The program also focuses on building a community of data scientists in Africa and fostering collaboration and knowledge sharing. Through a combination of online learning, bootcamps, and project-based work, 10 Academy prepares fellows for careers in data science and helps them contribute to the development of their communities."
      ],
      "text/plain": [
       "<IPython.core.display.Markdown object>"
      ]
     },
     "execution_count": 25,
     "metadata": {},
     "output_type": "execute_result"
    }
   ],
   "source": [
    "#PROMPTING EXPERIMENT\n",
    "#few-shot prompts\n",
    "prompt = \"\"\"The odd numbers in this group add up to an even number: 4, 8, 9, 15, 12, 2, 1.\n",
    "A: The answer is False.\n",
    "\n",
    "The odd numbers in this group add up to an even number: 17,  10, 19, 4, 8, 12, 24.\n",
    "A: The answer is True.\n",
    "\n",
    "The odd numbers in this group add up to an even number: 16,  11, 14, 4, 8, 13, 24.\n",
    "A: The answer is True.\n",
    "\n",
    "The odd numbers in this group add up to an even number: 17,  9, 10, 12, 13, 4, 2.\n",
    "A: The answer is False.\n",
    "\n",
    "The odd numbers in this group add up to an even number: 15, 32, 5, 13, 82, 7, 1. \n",
    "A:\"\"\"\n",
    "\n",
    "messages = messages\n",
    "response = openai.chat.completions.create(\n",
    "model = \"gpt-3.5-turbo\",\n",
    "messages = [\n",
    "    {\n",
    "        \"role\": \"user\",\n",
    "        \"content\": \"What is 10 academy\"\n",
    "    }\n",
    "],\n",
    "temperature = 1.0,\n",
    "max_tokens = 256,\n",
    "top_p =1,\n",
    "frequency_penalty = 0) \n",
    "IPython.display.Markdown(response.choices[0].message.content)"
   ]
  },
  {
   "cell_type": "code",
   "execution_count": null,
   "metadata": {},
   "outputs": [],
   "source": []
  },
  {
   "cell_type": "code",
   "execution_count": null,
   "metadata": {},
   "outputs": [],
   "source": []
  }
 ],
 "metadata": {
  "kernelspec": {
   "display_name": "Python 3 (ipykernel)",
   "language": "python",
   "name": "python3"
  },
  "language_info": {
   "codemirror_mode": {
    "name": "ipython",
    "version": 3
   },
   "file_extension": ".py",
   "mimetype": "text/x-python",
   "name": "python",
   "nbconvert_exporter": "python",
   "pygments_lexer": "ipython3",
   "version": "3.10.12"
  }
 },
 "nbformat": 4,
 "nbformat_minor": 4
}
